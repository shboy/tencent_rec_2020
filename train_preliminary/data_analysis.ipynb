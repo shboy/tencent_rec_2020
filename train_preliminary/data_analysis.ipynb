{
 "cells": [
  {
   "cell_type": "code",
   "execution_count": 40,
   "metadata": {},
   "outputs": [],
   "source": [
    "import numpy as np\n",
    "import pandas as pd\n",
    "import matplotlib.pyplot as plt\n",
    "import seaborn as sns\n",
    "from scipy import stats\n",
    "from scipy.stats import norm, skew"
   ]
  },
  {
   "cell_type": "code",
   "execution_count": 41,
   "metadata": {},
   "outputs": [],
   "source": [
    "def display_distrib(pd, feature):\n",
    "    plt.figure()\n",
    "    sns.distplot(pd[feature].dropna() , fit=norm);\n",
    "    # sns.distplot(pd[feature].dropna() , kde=False);\n",
    "    (mu, sigma) = norm.fit(pd[feature].dropna())\n",
    "    \n",
    "    plt.legend(['Normal dist. ($\\mu=$ {:.2f} and $\\sigma=$ {:.2f} )'.format(mu, sigma)], loc='best')\n",
    "    plt.ylabel('Frequency')\n",
    "    plt.title('SalePrice distribution')\n",
    "    plt.show()"
   ]
  },
  {
   "cell_type": "code",
   "execution_count": 2,
   "metadata": {},
   "outputs": [],
   "source": [
    "df_user = pd.read_csv(\"user.csv\", encoding='utf-8-sig').sample(frac=0.1, replace=True)\n",
    "df_ad = pd.read_csv(\"ad.csv\", encoding='utf-8-sig').sample(frac=0.01, replace=True)"
   ]
  },
  {
   "cell_type": "code",
   "execution_count": 3,
   "metadata": {},
   "outputs": [],
   "source": [
    "# https://blog.csdn.net/weixin_42782150/article/details/89546357\n",
    "df_click_log = pd.read_csv(\"click_log.csv\", encoding='utf-8-sig')"
   ]
  },
  {
   "cell_type": "code",
   "execution_count": 4,
   "metadata": {},
   "outputs": [],
   "source": [
    "df_click_log = df_click_log.join(df_user.set_index('user_id'),on='user_id')[df_click_log.columns]"
   ]
  },
  {
   "cell_type": "code",
   "execution_count": 5,
   "metadata": {},
   "outputs": [
    {
     "data": {
      "text/plain": [
       "((90000, 3), (24811, 6), (30225952, 4))"
      ]
     },
     "execution_count": 5,
     "metadata": {},
     "output_type": "execute_result"
    }
   ],
   "source": [
    "df_user.shape, df_ad.shape, df_click_log.shape"
   ]
  },
  {
   "cell_type": "markdown",
   "metadata": {},
   "source": [
    "## user 分析"
   ]
  },
  {
   "cell_type": "code",
   "execution_count": 34,
   "metadata": {},
   "outputs": [
    {
     "data": {
      "text/plain": [
       "(85693, 3)"
      ]
     },
     "execution_count": 34,
     "metadata": {},
     "output_type": "execute_result"
    }
   ],
   "source": [
    "df_user_unique = df_user.drop_duplicates(keep=\"last\")\n",
    "df_user_unique.shape\n",
    "# 无空值"
   ]
  },
  {
   "cell_type": "code",
   "execution_count": 38,
   "metadata": {},
   "outputs": [
    {
     "data": {
      "text/html": [
       "<div>\n",
       "<style scoped>\n",
       "    .dataframe tbody tr th:only-of-type {\n",
       "        vertical-align: middle;\n",
       "    }\n",
       "\n",
       "    .dataframe tbody tr th {\n",
       "        vertical-align: top;\n",
       "    }\n",
       "\n",
       "    .dataframe thead th {\n",
       "        text-align: right;\n",
       "    }\n",
       "</style>\n",
       "<table border=\"1\" class=\"dataframe\">\n",
       "  <thead>\n",
       "    <tr style=\"text-align: right;\">\n",
       "      <th></th>\n",
       "      <th>user_id</th>\n",
       "      <th>age</th>\n",
       "      <th>gender</th>\n",
       "    </tr>\n",
       "  </thead>\n",
       "  <tbody>\n",
       "    <tr>\n",
       "      <th>count</th>\n",
       "      <td>85693.000000</td>\n",
       "      <td>85693.000000</td>\n",
       "      <td>85693.000000</td>\n",
       "    </tr>\n",
       "    <tr>\n",
       "      <th>mean</th>\n",
       "      <td>451163.803730</td>\n",
       "      <td>4.237044</td>\n",
       "      <td>1.330295</td>\n",
       "    </tr>\n",
       "    <tr>\n",
       "      <th>std</th>\n",
       "      <td>259385.909998</td>\n",
       "      <td>2.002554</td>\n",
       "      <td>0.470322</td>\n",
       "    </tr>\n",
       "    <tr>\n",
       "      <th>min</th>\n",
       "      <td>14.000000</td>\n",
       "      <td>1.000000</td>\n",
       "      <td>1.000000</td>\n",
       "    </tr>\n",
       "    <tr>\n",
       "      <th>25%</th>\n",
       "      <td>226696.000000</td>\n",
       "      <td>3.000000</td>\n",
       "      <td>1.000000</td>\n",
       "    </tr>\n",
       "    <tr>\n",
       "      <th>50%</th>\n",
       "      <td>452031.000000</td>\n",
       "      <td>4.000000</td>\n",
       "      <td>1.000000</td>\n",
       "    </tr>\n",
       "    <tr>\n",
       "      <th>75%</th>\n",
       "      <td>675682.000000</td>\n",
       "      <td>6.000000</td>\n",
       "      <td>2.000000</td>\n",
       "    </tr>\n",
       "    <tr>\n",
       "      <th>max</th>\n",
       "      <td>899998.000000</td>\n",
       "      <td>10.000000</td>\n",
       "      <td>2.000000</td>\n",
       "    </tr>\n",
       "  </tbody>\n",
       "</table>\n",
       "</div>"
      ],
      "text/plain": [
       "             user_id           age        gender\n",
       "count   85693.000000  85693.000000  85693.000000\n",
       "mean   451163.803730      4.237044      1.330295\n",
       "std    259385.909998      2.002554      0.470322\n",
       "min        14.000000      1.000000      1.000000\n",
       "25%    226696.000000      3.000000      1.000000\n",
       "50%    452031.000000      4.000000      1.000000\n",
       "75%    675682.000000      6.000000      2.000000\n",
       "max    899998.000000     10.000000      2.000000"
      ]
     },
     "execution_count": 38,
     "metadata": {},
     "output_type": "execute_result"
    }
   ],
   "source": [
    "df_user_unique.describe()"
   ]
  },
  {
   "cell_type": "code",
   "execution_count": 61,
   "metadata": {},
   "outputs": [
    {
     "data": {
      "image/png": "[encoded data removed]",
      "text/plain": [
       "<Figure size 432x288 with 1 Axes>"
      ]
     },
     "metadata": {},
     "output_type": "display_data"
    },
    {
     "data": {
      "image/png": "[encoded data removed]",
      "text/plain": [
       "<Figure size 432x288 with 1 Axes>"
      ]
     },
     "metadata": {
      "needs_background": "light"
     },
     "output_type": "display_data"
    },
    {
     "data": {
      "text/plain": [
       "<matplotlib.axes._subplots.AxesSubplot at 0x23263613f98>"
      ]
     },
     "execution_count": 61,
     "metadata": {},
     "output_type": "execute_result"
    },
    {
     "data": {
      "image/png": "[encoded data removed]",
      "text/plain": [
       "<Figure size 432x288 with 1 Axes>"
      ]
     },
     "metadata": {},
     "output_type": "display_data"
    }
   ],
   "source": [
    "ax1 = plt.subplot(121)\n",
    "df_user_unique['age'].value_counts().sort_index().plot(kind='pie',autopct='%.2f%%')\n",
    "display_distrib(df_user_unique, 'age')\n",
    "ax2 = plt.subplot(122)\n",
    "df_user_unique['gender'].value_counts().sort_values(ascending=False).plot(kind='pie',autopct='%.2f%%')\n",
    "# display_distrib(df_user_unique, 'gender')"
   ]
  },
  {
   "cell_type": "code",
   "execution_count": 60,
   "metadata": {},
   "outputs": [
    {
     "data": {
      "text/plain": [
       "1      3396\n",
       "2     14276\n",
       "3     19390\n",
       "4     14362\n",
       "5     12412\n",
       "6      9485\n",
       "7      6396\n",
       "8      3081\n",
       "9      1821\n",
       "10     1074\n",
       "Name: age, dtype: int64"
      ]
     },
     "execution_count": 60,
     "metadata": {},
     "output_type": "execute_result"
    }
   ],
   "source": [
    "df_user_unique['age'].value_counts().sort_index()"
   ]
  },
  {
   "cell_type": "markdown",
   "metadata": {},
   "source": [
    "## ad 分析"
   ]
  },
  {
   "cell_type": "code",
   "execution_count": 62,
   "metadata": {},
   "outputs": [
    {
     "data": {
      "text/html": [
       "<div>\n",
       "<style scoped>\n",
       "    .dataframe tbody tr th:only-of-type {\n",
       "        vertical-align: middle;\n",
       "    }\n",
       "\n",
       "    .dataframe tbody tr th {\n",
       "        vertical-align: top;\n",
       "    }\n",
       "\n",
       "    .dataframe thead th {\n",
       "        text-align: right;\n",
       "    }\n",
       "</style>\n",
       "<table border=\"1\" class=\"dataframe\">\n",
       "  <thead>\n",
       "    <tr style=\"text-align: right;\">\n",
       "      <th></th>\n",
       "      <th>creative_id</th>\n",
       "      <th>ad_id</th>\n",
       "      <th>product_id</th>\n",
       "      <th>product_category</th>\n",
       "      <th>advertiser_id</th>\n",
       "      <th>industry</th>\n",
       "    </tr>\n",
       "  </thead>\n",
       "  <tbody>\n",
       "    <tr>\n",
       "      <th>558377</th>\n",
       "      <td>963757</td>\n",
       "      <td>848291</td>\n",
       "      <td>1766</td>\n",
       "      <td>2</td>\n",
       "      <td>17442</td>\n",
       "      <td>319</td>\n",
       "    </tr>\n",
       "    <tr>\n",
       "      <th>2071300</th>\n",
       "      <td>3679633</td>\n",
       "      <td>3166561</td>\n",
       "      <td>2103</td>\n",
       "      <td>2</td>\n",
       "      <td>51875</td>\n",
       "      <td>322</td>\n",
       "    </tr>\n",
       "    <tr>\n",
       "      <th>2335474</th>\n",
       "      <td>4160693</td>\n",
       "      <td>3569434</td>\n",
       "      <td>1810</td>\n",
       "      <td>2</td>\n",
       "      <td>47867</td>\n",
       "      <td>319</td>\n",
       "    </tr>\n",
       "    <tr>\n",
       "      <th>116344</th>\n",
       "      <td>179702</td>\n",
       "      <td>161184</td>\n",
       "      <td>\\N</td>\n",
       "      <td>5</td>\n",
       "      <td>18960</td>\n",
       "      <td>202</td>\n",
       "    </tr>\n",
       "    <tr>\n",
       "      <th>553323</th>\n",
       "      <td>954250</td>\n",
       "      <td>840288</td>\n",
       "      <td>10918</td>\n",
       "      <td>8</td>\n",
       "      <td>12737</td>\n",
       "      <td>328</td>\n",
       "    </tr>\n",
       "  </tbody>\n",
       "</table>\n",
       "</div>"
      ],
      "text/plain": [
       "         creative_id    ad_id product_id  product_category  advertiser_id  \\\n",
       "558377        963757   848291       1766                 2          17442   \n",
       "2071300      3679633  3166561       2103                 2          51875   \n",
       "2335474      4160693  3569434       1810                 2          47867   \n",
       "116344        179702   161184         \\N                 5          18960   \n",
       "553323        954250   840288      10918                 8          12737   \n",
       "\n",
       "        industry  \n",
       "558377       319  \n",
       "2071300      322  \n",
       "2335474      319  \n",
       "116344       202  \n",
       "553323       328  "
      ]
     },
     "execution_count": 62,
     "metadata": {},
     "output_type": "execute_result"
    }
   ],
   "source": [
    "df_ad.head(5)\n",
    "# \\N 是啥？"
   ]
  },
  {
   "cell_type": "code",
   "execution_count": 65,
   "metadata": {},
   "outputs": [
    {
     "data": {
      "text/plain": [
       "creative_id          int64\n",
       "ad_id                int64\n",
       "product_id          object\n",
       "product_category     int64\n",
       "advertiser_id        int64\n",
       "industry            object\n",
       "dtype: object"
      ]
     },
     "execution_count": 65,
     "metadata": {},
     "output_type": "execute_result"
    }
   ],
   "source": [
    "df_ad.dtypes"
   ]
  },
  {
   "cell_type": "code",
   "execution_count": 68,
   "metadata": {},
   "outputs": [
    {
     "data": {
      "text/plain": [
       "creative_id         0\n",
       "ad_id               0\n",
       "product_id          0\n",
       "product_category    0\n",
       "advertiser_id       0\n",
       "industry            0\n",
       "dtype: int64"
      ]
     },
     "execution_count": 68,
     "metadata": {},
     "output_type": "execute_result"
    }
   ],
   "source": [
    "df_ad.isnull().sum()"
   ]
  },
  {
   "cell_type": "code",
   "execution_count": 78,
   "metadata": {},
   "outputs": [
    {
     "name": "stdout",
     "output_type": "stream",
     "text": [
      "df_ad:\t (24811, 6)\n",
      "creative_id :\t (24676,)\n",
      "ad_id :\t (24655,)\n",
      "product_id :\t (3549,)\n",
      "product_category :\t (17,)\n",
      "advertiser_id :\t (9100,)\n",
      "industry :\t (216,)\n"
     ]
    }
   ],
   "source": [
    "print(\"df_ad:\\t\", df_ad.shape)\n",
    "# for key in ['creative_id', 'ad_id', 'product_id', 'product_category', 'advertiser_id', 'industry']:\n",
    "for key in df_ad.columns:\n",
    "    print(key, ':\\t', df_ad[key].unique().shape)"
   ]
  },
  {
   "cell_type": "markdown",
   "metadata": {},
   "source": [
    "## click_log.csv 分析"
   ]
  },
  {
   "cell_type": "code",
   "execution_count": 79,
   "metadata": {},
   "outputs": [
    {
     "data": {
      "text/html": [
       "<div>\n",
       "<style scoped>\n",
       "    .dataframe tbody tr th:only-of-type {\n",
       "        vertical-align: middle;\n",
       "    }\n",
       "\n",
       "    .dataframe tbody tr th {\n",
       "        vertical-align: top;\n",
       "    }\n",
       "\n",
       "    .dataframe thead th {\n",
       "        text-align: right;\n",
       "    }\n",
       "</style>\n",
       "<table border=\"1\" class=\"dataframe\">\n",
       "  <thead>\n",
       "    <tr style=\"text-align: right;\">\n",
       "      <th></th>\n",
       "      <th>time</th>\n",
       "      <th>user_id</th>\n",
       "      <th>creative_id</th>\n",
       "      <th>click_times</th>\n",
       "    </tr>\n",
       "  </thead>\n",
       "  <tbody>\n",
       "    <tr>\n",
       "      <th>0</th>\n",
       "      <td>9</td>\n",
       "      <td>30920</td>\n",
       "      <td>567330</td>\n",
       "      <td>1</td>\n",
       "    </tr>\n",
       "    <tr>\n",
       "      <th>1</th>\n",
       "      <td>65</td>\n",
       "      <td>30920</td>\n",
       "      <td>3072255</td>\n",
       "      <td>1</td>\n",
       "    </tr>\n",
       "    <tr>\n",
       "      <th>2</th>\n",
       "      <td>56</td>\n",
       "      <td>30920</td>\n",
       "      <td>2361327</td>\n",
       "      <td>1</td>\n",
       "    </tr>\n",
       "    <tr>\n",
       "      <th>3</th>\n",
       "      <td>6</td>\n",
       "      <td>309204</td>\n",
       "      <td>325532</td>\n",
       "      <td>1</td>\n",
       "    </tr>\n",
       "    <tr>\n",
       "      <th>4</th>\n",
       "      <td>59</td>\n",
       "      <td>309204</td>\n",
       "      <td>2746730</td>\n",
       "      <td>1</td>\n",
       "    </tr>\n",
       "  </tbody>\n",
       "</table>\n",
       "</div>"
      ],
      "text/plain": [
       "   time  user_id  creative_id  click_times\n",
       "0     9    30920       567330            1\n",
       "1    65    30920      3072255            1\n",
       "2    56    30920      2361327            1\n",
       "3     6   309204       325532            1\n",
       "4    59   309204      2746730            1"
      ]
     },
     "execution_count": 79,
     "metadata": {},
     "output_type": "execute_result"
    }
   ],
   "source": [
    "df_click_log.head(5)"
   ]
  },
  {
   "cell_type": "code",
   "execution_count": 81,
   "metadata": {},
   "outputs": [
    {
     "name": "stderr",
     "output_type": "stream",
     "text": [
      "C:\\ProgramData\\Anaconda3\\envs\\venv3.6_tf1.10\\lib\\site-packages\\seaborn\\distributions.py:369: UserWarning: Default bandwidth for data is 0; skipping density estimation.\n",
      "  warnings.warn(msg, UserWarning)\n"
     ]
    },
    {
     "data": {
      "image/png": "[encoded data removed]",
      "text/plain": [
       "<Figure size 432x288 with 1 Axes>"
      ]
     },
     "metadata": {
      "needs_background": "light"
     },
     "output_type": "display_data"
    }
   ],
   "source": [
    "display_distrib(df_click_log, 'click_times')"
   ]
  },
  {
   "cell_type": "code",
   "execution_count": 82,
   "metadata": {},
   "outputs": [
    {
     "data": {
      "text/plain": [
       "1      28561736\n",
       "2       1514697\n",
       "3         90806\n",
       "4         43262\n",
       "5          7544\n",
       "6          3534\n",
       "7          1532\n",
       "8          1492\n",
       "9           453\n",
       "10          270\n",
       "11          173\n",
       "12          116\n",
       "13           76\n",
       "14           63\n",
       "15           37\n",
       "16           34\n",
       "17           23\n",
       "18           21\n",
       "21           17\n",
       "20           13\n",
       "19           10\n",
       "22            5\n",
       "23            4\n",
       "27            4\n",
       "26            3\n",
       "32            3\n",
       "30            3\n",
       "24            3\n",
       "25            2\n",
       "28            2\n",
       "29            2\n",
       "33            2\n",
       "37            2\n",
       "67            1\n",
       "34            1\n",
       "35            1\n",
       "36            1\n",
       "43            1\n",
       "44            1\n",
       "50            1\n",
       "152           1\n",
       "Name: click_times, dtype: int64"
      ]
     },
     "execution_count": 82,
     "metadata": {},
     "output_type": "execute_result"
    }
   ],
   "source": [
    "df_click_log['click_times'].value_counts()"
   ]
  },
  {
   "cell_type": "markdown",
   "metadata": {},
   "source": [
    "# https://blog.csdn.net/toshibahuai/article/details/79034829\n",
    "df_user.to_csv('user.sample.csv')\n",
    "df_ad.to_csv('ad.sample.csv')\n",
    "df_click_log.to_csv('df_click_log.sample.csv')"
   ]
  },
  {
   "cell_type": "code",
   "execution_count": null,
   "metadata": {},
   "outputs": [],
   "source": []
  }
 ],
 "metadata": {
  "kernelspec": {
   "display_name": "Python [conda env:venv3.6_tf1.10] *",
   "language": "python",
   "name": "conda-env-venv3.6_tf1.10-py"
  },
  "language_info": {
   "codemirror_mode": {
    "name": "ipython",
    "version": 3
   },
   "file_extension": ".py",
   "mimetype": "text/x-python",
   "name": "python",
   "nbconvert_exporter": "python",
   "pygments_lexer": "ipython3",
   "version": "3.6.7"
  }
 },
 "nbformat": 4,
 "nbformat_minor": 4
}
