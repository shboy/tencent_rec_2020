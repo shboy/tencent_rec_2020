{
 "cells": [
  {
   "cell_type": "code",
   "execution_count": 1,
   "metadata": {},
   "outputs": [],
   "source": [
    "import numpy as np\n",
    "import pandas as pd\n",
    "import matplotlib.pyplot as plt\n",
    "import seaborn as sns\n",
    "from scipy import stats\n",
    "from scipy.stats import norm, skew"
   ]
  },
  {
   "cell_type": "code",
   "execution_count": 2,
   "metadata": {},
   "outputs": [],
   "source": [
    "def display_distrib(pd, feature):\n",
    "    plt.figure()\n",
    "    sns.distplot(pd[feature].dropna() , fit=norm);\n",
    "    # sns.distplot(pd[feature].dropna() , kde=False);\n",
    "    (mu, sigma) = norm.fit(pd[feature].dropna())\n",
    "    \n",
    "    plt.legend(['Normal dist. ($\\mu=$ {:.2f} and $\\sigma=$ {:.2f} )'.format(mu, sigma)], loc='best')\n",
    "    plt.ylabel('Frequency')\n",
    "    plt.title('SalePrice distribution')\n",
    "    plt.show()"
   ]
  },
  {
   "cell_type": "code",
   "execution_count": 3,
   "metadata": {},
   "outputs": [],
   "source": [
    "df_user = pd.read_csv(\"user.csv\", encoding='utf-8-sig').sample(frac=0.1, replace=False, random_state=5262209)\n",
    "df_ad = pd.read_csv(\"ad.csv\", encoding='utf-8-sig').sample(frac=0.01, replace=False, random_state=5262209)"
   ]
  },
  {
   "cell_type": "code",
   "execution_count": 4,
   "metadata": {},
   "outputs": [],
   "source": [
    "df_click_log = pd.read_csv(\"click_log.csv\", encoding='utf-8-sig')\n",
    "# https://blog.csdn.net/weixin_42782150/article/details/89546357\n",
    "df_click_log = df_click_log.join(df_user.set_index('user_id'),on='user_id', how='inner')[df_click_log.columns]"
   ]
  },
  {
   "cell_type": "code",
   "execution_count": 5,
   "metadata": {},
   "outputs": [
    {
     "data": {
      "text/plain": [
       "((90000, 3), (24811, 6), (3017949, 4))"
      ]
     },
     "execution_count": 5,
     "metadata": {},
     "output_type": "execute_result"
    }
   ],
   "source": [
    "df_user.shape, df_ad.shape, df_click_log.shape"
   ]
  },
  {
   "cell_type": "markdown",
   "metadata": {},
   "source": [
    "## user 分析"
   ]
  },
  {
   "cell_type": "code",
   "execution_count": 6,
   "metadata": {},
   "outputs": [
    {
     "data": {
      "text/html": [
       "<div>\n",
       "<style scoped>\n",
       "    .dataframe tbody tr th:only-of-type {\n",
       "        vertical-align: middle;\n",
       "    }\n",
       "\n",
       "    .dataframe tbody tr th {\n",
       "        vertical-align: top;\n",
       "    }\n",
       "\n",
       "    .dataframe thead th {\n",
       "        text-align: right;\n",
       "    }\n",
       "</style>\n",
       "<table border=\"1\" class=\"dataframe\">\n",
       "  <thead>\n",
       "    <tr style=\"text-align: right;\">\n",
       "      <th></th>\n",
       "      <th>user_id</th>\n",
       "      <th>age</th>\n",
       "      <th>gender</th>\n",
       "    </tr>\n",
       "  </thead>\n",
       "  <tbody>\n",
       "    <tr>\n",
       "      <th>count</th>\n",
       "      <td>90000.000000</td>\n",
       "      <td>90000.000000</td>\n",
       "      <td>90000.000000</td>\n",
       "    </tr>\n",
       "    <tr>\n",
       "      <th>mean</th>\n",
       "      <td>449835.625367</td>\n",
       "      <td>4.239733</td>\n",
       "      <td>1.329467</td>\n",
       "    </tr>\n",
       "    <tr>\n",
       "      <th>std</th>\n",
       "      <td>259591.973376</td>\n",
       "      <td>1.997135</td>\n",
       "      <td>0.470022</td>\n",
       "    </tr>\n",
       "    <tr>\n",
       "      <th>min</th>\n",
       "      <td>1.000000</td>\n",
       "      <td>1.000000</td>\n",
       "      <td>1.000000</td>\n",
       "    </tr>\n",
       "    <tr>\n",
       "      <th>25%</th>\n",
       "      <td>224361.250000</td>\n",
       "      <td>3.000000</td>\n",
       "      <td>1.000000</td>\n",
       "    </tr>\n",
       "    <tr>\n",
       "      <th>50%</th>\n",
       "      <td>449714.500000</td>\n",
       "      <td>4.000000</td>\n",
       "      <td>1.000000</td>\n",
       "    </tr>\n",
       "    <tr>\n",
       "      <th>75%</th>\n",
       "      <td>675028.000000</td>\n",
       "      <td>6.000000</td>\n",
       "      <td>2.000000</td>\n",
       "    </tr>\n",
       "    <tr>\n",
       "      <th>max</th>\n",
       "      <td>899999.000000</td>\n",
       "      <td>10.000000</td>\n",
       "      <td>2.000000</td>\n",
       "    </tr>\n",
       "  </tbody>\n",
       "</table>\n",
       "</div>"
      ],
      "text/plain": [
       "             user_id           age        gender\n",
       "count   90000.000000  90000.000000  90000.000000\n",
       "mean   449835.625367      4.239733      1.329467\n",
       "std    259591.973376      1.997135      0.470022\n",
       "min         1.000000      1.000000      1.000000\n",
       "25%    224361.250000      3.000000      1.000000\n",
       "50%    449714.500000      4.000000      1.000000\n",
       "75%    675028.000000      6.000000      2.000000\n",
       "max    899999.000000     10.000000      2.000000"
      ]
     },
     "execution_count": 6,
     "metadata": {},
     "output_type": "execute_result"
    }
   ],
   "source": [
    "df_user.describe()"
   ]
  },
  {
   "cell_type": "code",
   "execution_count": 7,
   "metadata": {},
   "outputs": [
    {
     "name": "stderr",
     "output_type": "stream",
     "text": [
      "C:\\ProgramData\\Anaconda3\\envs\\venv3.6_tf1.10\\lib\\site-packages\\scipy\\stats\\stats.py:1713: FutureWarning: Using a non-tuple sequence for multidimensional indexing is deprecated; use `arr[tuple(seq)]` instead of `arr[seq]`. In the future this will be interpreted as an array index, `arr[np.array(seq)]`, which will result either in an error or a different result.\n",
      "  return np.add.reduce(sorted[indexer] * weights, axis=axis) / sumval\n"
     ]
    },
    {
     "data": {
      "image/png": "[encoded data removed]",
      "text/plain": [
       "<Figure size 432x288 with 1 Axes>"
      ]
     },
     "metadata": {},
     "output_type": "display_data"
    },
    {
     "data": {
      "image/png": "[encoded data removed]",
      "text/plain": [
       "<Figure size 432x288 with 1 Axes>"
      ]
     },
     "metadata": {
      "needs_background": "light"
     },
     "output_type": "display_data"
    },
    {
     "data": {
      "text/plain": [
       "<matplotlib.axes._subplots.AxesSubplot at 0x24ca6986828>"
      ]
     },
     "execution_count": 7,
     "metadata": {},
     "output_type": "execute_result"
    },
    {
     "data": {
      "image/png": "[encoded data removed]",
      "text/plain": [
       "<Figure size 432x288 with 1 Axes>"
      ]
     },
     "metadata": {},
     "output_type": "display_data"
    }
   ],
   "source": [
    "ax1 = plt.subplot(121)\n",
    "df_user['age'].value_counts().sort_index().plot(kind='pie',autopct='%.2f%%')\n",
    "display_distrib(df_user, 'age')\n",
    "ax2 = plt.subplot(122)\n",
    "df_user['gender'].value_counts().sort_values(ascending=False).plot(kind='pie',autopct='%.2f%%')\n",
    "# display_distrib(df_user_unique, 'gender')"
   ]
  },
  {
   "cell_type": "code",
   "execution_count": 8,
   "metadata": {},
   "outputs": [
    {
     "data": {
      "text/plain": [
       "1      3482\n",
       "2     15031\n",
       "3     20295\n",
       "4     14966\n",
       "5     13224\n",
       "6     10190\n",
       "7      6670\n",
       "8      3106\n",
       "9      1875\n",
       "10     1161\n",
       "Name: age, dtype: int64"
      ]
     },
     "execution_count": 8,
     "metadata": {},
     "output_type": "execute_result"
    }
   ],
   "source": [
    "df_user['age'].value_counts().sort_index()"
   ]
  },
  {
   "cell_type": "markdown",
   "metadata": {},
   "source": [
    "## ad 分析"
   ]
  },
  {
   "cell_type": "code",
   "execution_count": 9,
   "metadata": {},
   "outputs": [
    {
     "data": {
      "text/html": [
       "<div>\n",
       "<style scoped>\n",
       "    .dataframe tbody tr th:only-of-type {\n",
       "        vertical-align: middle;\n",
       "    }\n",
       "\n",
       "    .dataframe tbody tr th {\n",
       "        vertical-align: top;\n",
       "    }\n",
       "\n",
       "    .dataframe thead th {\n",
       "        text-align: right;\n",
       "    }\n",
       "</style>\n",
       "<table border=\"1\" class=\"dataframe\">\n",
       "  <thead>\n",
       "    <tr style=\"text-align: right;\">\n",
       "      <th></th>\n",
       "      <th>creative_id</th>\n",
       "      <th>ad_id</th>\n",
       "      <th>product_id</th>\n",
       "      <th>product_category</th>\n",
       "      <th>advertiser_id</th>\n",
       "      <th>industry</th>\n",
       "    </tr>\n",
       "  </thead>\n",
       "  <tbody>\n",
       "    <tr>\n",
       "      <th>1540468</th>\n",
       "      <td>2728318</td>\n",
       "      <td>2346473</td>\n",
       "      <td>\\N</td>\n",
       "      <td>18</td>\n",
       "      <td>45185</td>\n",
       "      <td>36</td>\n",
       "    </tr>\n",
       "    <tr>\n",
       "      <th>2370064</th>\n",
       "      <td>4226944</td>\n",
       "      <td>3626219</td>\n",
       "      <td>8518</td>\n",
       "      <td>3</td>\n",
       "      <td>28366</td>\n",
       "      <td>21</td>\n",
       "    </tr>\n",
       "    <tr>\n",
       "      <th>2003484</th>\n",
       "      <td>3556871</td>\n",
       "      <td>3062677</td>\n",
       "      <td>1380</td>\n",
       "      <td>2</td>\n",
       "      <td>33242</td>\n",
       "      <td>238</td>\n",
       "    </tr>\n",
       "    <tr>\n",
       "      <th>192222</th>\n",
       "      <td>310380</td>\n",
       "      <td>278616</td>\n",
       "      <td>12197</td>\n",
       "      <td>8</td>\n",
       "      <td>22607</td>\n",
       "      <td>329</td>\n",
       "    </tr>\n",
       "    <tr>\n",
       "      <th>1842022</th>\n",
       "      <td>3270781</td>\n",
       "      <td>2813801</td>\n",
       "      <td>1849</td>\n",
       "      <td>2</td>\n",
       "      <td>55525</td>\n",
       "      <td>317</td>\n",
       "    </tr>\n",
       "  </tbody>\n",
       "</table>\n",
       "</div>"
      ],
      "text/plain": [
       "         creative_id    ad_id product_id  product_category  advertiser_id  \\\n",
       "1540468      2728318  2346473         \\N                18          45185   \n",
       "2370064      4226944  3626219       8518                 3          28366   \n",
       "2003484      3556871  3062677       1380                 2          33242   \n",
       "192222        310380   278616      12197                 8          22607   \n",
       "1842022      3270781  2813801       1849                 2          55525   \n",
       "\n",
       "        industry  \n",
       "1540468       36  \n",
       "2370064       21  \n",
       "2003484      238  \n",
       "192222       329  \n",
       "1842022      317  "
      ]
     },
     "execution_count": 9,
     "metadata": {},
     "output_type": "execute_result"
    }
   ],
   "source": [
    "df_ad.head(5)\n",
    "# \\N 是啥？"
   ]
  },
  {
   "cell_type": "code",
   "execution_count": 10,
   "metadata": {},
   "outputs": [
    {
     "data": {
      "text/plain": [
       "creative_id          int64\n",
       "ad_id                int64\n",
       "product_id          object\n",
       "product_category     int64\n",
       "advertiser_id        int64\n",
       "industry            object\n",
       "dtype: object"
      ]
     },
     "execution_count": 10,
     "metadata": {},
     "output_type": "execute_result"
    }
   ],
   "source": [
    "df_ad.dtypes"
   ]
  },
  {
   "cell_type": "code",
   "execution_count": 11,
   "metadata": {},
   "outputs": [
    {
     "data": {
      "text/plain": [
       "creative_id         0\n",
       "ad_id               0\n",
       "product_id          0\n",
       "product_category    0\n",
       "advertiser_id       0\n",
       "industry            0\n",
       "dtype: int64"
      ]
     },
     "execution_count": 11,
     "metadata": {},
     "output_type": "execute_result"
    }
   ],
   "source": [
    "df_ad.isnull().sum()"
   ]
  },
  {
   "cell_type": "code",
   "execution_count": 12,
   "metadata": {},
   "outputs": [
    {
     "name": "stdout",
     "output_type": "stream",
     "text": [
      "df_ad:\t (24811, 6)\n",
      "creative_id :\t (24811,)\n",
      "ad_id :\t (24784,)\n",
      "product_id :\t (3517,)\n",
      "product_category :\t (18,)\n",
      "advertiser_id :\t (9176,)\n",
      "industry :\t (216,)\n"
     ]
    }
   ],
   "source": [
    "print(\"df_ad:\\t\", df_ad.shape)\n",
    "# for key in ['creative_id', 'ad_id', 'product_id', 'product_category', 'advertiser_id', 'industry']:\n",
    "for key in df_ad.columns:\n",
    "    print(key, ':\\t', df_ad[key].unique().shape)"
   ]
  },
  {
   "cell_type": "markdown",
   "metadata": {},
   "source": [
    "## click_log.csv 分析"
   ]
  },
  {
   "cell_type": "code",
   "execution_count": 13,
   "metadata": {},
   "outputs": [
    {
     "data": {
      "text/html": [
       "<div>\n",
       "<style scoped>\n",
       "    .dataframe tbody tr th:only-of-type {\n",
       "        vertical-align: middle;\n",
       "    }\n",
       "\n",
       "    .dataframe tbody tr th {\n",
       "        vertical-align: top;\n",
       "    }\n",
       "\n",
       "    .dataframe thead th {\n",
       "        text-align: right;\n",
       "    }\n",
       "</style>\n",
       "<table border=\"1\" class=\"dataframe\">\n",
       "  <thead>\n",
       "    <tr style=\"text-align: right;\">\n",
       "      <th></th>\n",
       "      <th>time</th>\n",
       "      <th>user_id</th>\n",
       "      <th>creative_id</th>\n",
       "      <th>click_times</th>\n",
       "    </tr>\n",
       "  </thead>\n",
       "  <tbody>\n",
       "    <tr>\n",
       "      <th>855</th>\n",
       "      <td>3</td>\n",
       "      <td>309244</td>\n",
       "      <td>360130</td>\n",
       "      <td>1</td>\n",
       "    </tr>\n",
       "    <tr>\n",
       "      <th>856</th>\n",
       "      <td>47</td>\n",
       "      <td>309244</td>\n",
       "      <td>1393232</td>\n",
       "      <td>1</td>\n",
       "    </tr>\n",
       "    <tr>\n",
       "      <th>857</th>\n",
       "      <td>39</td>\n",
       "      <td>309244</td>\n",
       "      <td>1831751</td>\n",
       "      <td>1</td>\n",
       "    </tr>\n",
       "    <tr>\n",
       "      <th>858</th>\n",
       "      <td>80</td>\n",
       "      <td>309244</td>\n",
       "      <td>2353377</td>\n",
       "      <td>1</td>\n",
       "    </tr>\n",
       "    <tr>\n",
       "      <th>859</th>\n",
       "      <td>27</td>\n",
       "      <td>309244</td>\n",
       "      <td>1393062</td>\n",
       "      <td>1</td>\n",
       "    </tr>\n",
       "  </tbody>\n",
       "</table>\n",
       "</div>"
      ],
      "text/plain": [
       "     time  user_id  creative_id  click_times\n",
       "855     3   309244       360130            1\n",
       "856    47   309244      1393232            1\n",
       "857    39   309244      1831751            1\n",
       "858    80   309244      2353377            1\n",
       "859    27   309244      1393062            1"
      ]
     },
     "execution_count": 13,
     "metadata": {},
     "output_type": "execute_result"
    }
   ],
   "source": [
    "df_click_log.head(5)"
   ]
  },
  {
   "cell_type": "code",
   "execution_count": null,
   "metadata": {},
   "outputs": [],
   "source": [
    "# https://blog.csdn.net/guofei_fly/article/details/93844612\n",
    "df_click_log.groupby('user_id', group_keys=False).apply(lambda x: x.sort_values('time'))\n",
    "# df_click_log.groupby('user_id', group_keys=False).head(1000).apply(lambda x: x.sort_values('time'))"
   ]
  },
  {
   "cell_type": "code",
   "execution_count": 22,
   "metadata": {},
   "outputs": [
    {
     "name": "stderr",
     "output_type": "stream",
     "text": [
      "/home/mi/anaconda3/envs/venv3.6_tf1.10/lib/python3.6/site-packages/seaborn/distributions.py:369: UserWarning: Default bandwidth for data is 0; skipping density estimation.\n",
      "  warnings.warn(msg, UserWarning)\n"
     ]
    },
    {
     "data": {
      "image/png": "[encoded data removed]",
      "text/plain": [
       "<Figure size 432x288 with 1 Axes>"
      ]
     },
     "metadata": {
      "needs_background": "light"
     },
     "output_type": "display_data"
    }
   ],
   "source": [
    "display_distrib(df_click_log, 'click_times')"
   ]
  },
  {
   "cell_type": "code",
   "execution_count": 23,
   "metadata": {},
   "outputs": [
    {
     "data": {
      "text/plain": [
       "1      2851312\n",
       "2       151555\n",
       "3         9134\n",
       "4         4330\n",
       "5          762\n",
       "6          385\n",
       "7          181\n",
       "8          161\n",
       "9           41\n",
       "10          27\n",
       "11          18\n",
       "12           9\n",
       "13           9\n",
       "18           4\n",
       "20           4\n",
       "14           3\n",
       "15           3\n",
       "16           2\n",
       "21           2\n",
       "30           1\n",
       "17           1\n",
       "19           1\n",
       "24           1\n",
       "25           1\n",
       "26           1\n",
       "152          1\n",
       "Name: click_times, dtype: int64"
      ]
     },
     "execution_count": 23,
     "metadata": {},
     "output_type": "execute_result"
    }
   ],
   "source": [
    "df_click_log['click_times'].value_counts()"
   ]
  },
  {
   "cell_type": "code",
   "execution_count": 24,
   "metadata": {},
   "outputs": [],
   "source": [
    "# https://blog.csdn.net/toshibahuai/article/details/79034829\n",
    "# df_user.to_csv('user.sample.csv', index=False)\n",
    "# df_ad.to_csv('ad.sample.csv', index=False)\n",
    "# df_click_log.to_csv('click_log.sample.csv', index=False)"
   ]
  },
  {
   "cell_type": "code",
   "execution_count": 25,
   "metadata": {},
   "outputs": [
    {
     "data": {
      "text/plain": [
       "(Index(['user_id', 'age', 'gender'], dtype='object'),\n",
       " Index(['creative_id', 'ad_id', 'product_id', 'product_category',\n",
       "        'advertiser_id', 'industry'],\n",
       "       dtype='object'),\n",
       " Index(['time', 'user_id', 'creative_id', 'click_times'], dtype='object'))"
      ]
     },
     "execution_count": 25,
     "metadata": {},
     "output_type": "execute_result"
    }
   ],
   "source": [
    "df_user.columns, df_ad.columns, df_click_log.columns"
   ]
  }
 ],
 "metadata": {
  "kernelspec": {
   "display_name": "Python [conda env:venv3.6_tf1.10] *",
   "language": "python",
   "name": "conda-env-venv3.6_tf1.10-py"
  },
  "language_info": {
   "codemirror_mode": {
    "name": "ipython",
    "version": 3
   },
   "file_extension": ".py",
   "mimetype": "text/x-python",
   "name": "python",
   "nbconvert_exporter": "python",
   "pygments_lexer": "ipython3",
   "version": "3.6.7"
  }
 },
 "nbformat": 4,
 "nbformat_minor": 4
}
